{
 "cells": [
  {
   "cell_type": "code",
   "execution_count": 6,
   "metadata": {},
   "outputs": [],
   "source": [
    "from Neuroevo import *\n",
    "import random\n",
    "import matplotlib.pyplot as plt\n",
    "import timeit\n",
    "import pandas as pd"
   ]
  },
  {
   "cell_type": "code",
   "execution_count": 2,
   "metadata": {},
   "outputs": [],
   "source": [
    "random.seed(213)\n",
    "np.random.seed(213)"
   ]
  },
  {
   "cell_type": "code",
   "execution_count": 3,
   "metadata": {},
   "outputs": [
    {
     "name": "stderr",
     "output_type": "stream",
     "text": [
      "/home/konrad/.local/lib/python3.8/site-packages/numpy/core/fromnumeric.py:3474: RuntimeWarning: Mean of empty slice.\n",
      "  return _methods._mean(a, axis=axis, dtype=dtype,\n",
      "/home/konrad/.local/lib/python3.8/site-packages/numpy/core/_methods.py:189: RuntimeWarning: invalid value encountered in double_scalars\n",
      "  ret = ret.dtype.type(ret / rcount)\n"
     ]
    },
    {
     "data": {
      "text/plain": [
       "nan"
      ]
     },
     "execution_count": 3,
     "metadata": {},
     "output_type": "execute_result"
    }
   ],
   "source": []
  },
  {
   "cell_type": "markdown",
   "metadata": {},
   "source": [
    "# multimodal"
   ]
  },
  {
   "cell_type": "code",
   "execution_count": 7,
   "metadata": {},
   "outputs": [],
   "source": [
    "multimodal_train = pd.read_csv('../data/regression/multimodal-large-training.csv')\n",
    "multimodal_test = pd.read_csv('../data/regression/multimodal-large-test.csv')\n",
    "multimodal_test_X = multimodal_test[['x']].values\n",
    "multimodal_test_Y = multimodal_test[['y']].values\n",
    "multimodal_train_X = multimodal_train[['x']].values\n",
    "multimodal_train_Y = multimodal_train[['y']].values"
   ]
  },
  {
   "cell_type": "code",
   "execution_count": 48,
   "metadata": {},
   "outputs": [
    {
     "name": "stdout",
     "output_type": "stream",
     "text": [
      "epoch 0: \n",
      "5037.017204348525\n",
      "epoch 1: \n",
      "4555.683027608936\n",
      "epoch 2: \n",
      "4070.4163168550976\n",
      "epoch 3: \n",
      "3614.4284159174877\n",
      "epoch 4: \n",
      "3299.300396623748\n",
      "epoch 5: \n",
      "3082.4888214513317\n",
      "epoch 6: \n",
      "2893.61802381263\n",
      "epoch 7: \n",
      "2757.7529630564463\n",
      "epoch 8: \n",
      "2651.2204488592265\n",
      "epoch 9: \n",
      "2581.831589123268\n"
     ]
    },
    {
     "data": {
      "image/png": "[encoded data removed]",
      "text/plain": [
       "<Figure size 432x288 with 1 Axes>"
      ]
     },
     "metadata": {
      "needs_background": "light"
     },
     "output_type": "display_data"
    }
   ],
   "source": [
    "pop_size = 40\n",
    "p_mut = 0.25\n",
    "sigma = 0.1\n",
    "p_cross = 0.5\n",
    "elite_count = 10\n",
    "tournament_size = 4\n",
    "layers_sizes = [5, 5, 1]\n",
    "layers_activations = [\"sigmoid\", \"sigmoid\", \"identity\"]\n",
    "p = Population(pop_size, 1, layers_sizes, layers_activations, multimodal_train_X, multimodal_train_Y)\n",
    "n_epochs = 10\n",
    "n_iters = 200\n",
    "loss_history_x = np.array([])\n",
    "loss_history_y = np.array([])\n",
    "for epoch in range(n_epochs):\n",
    "    for i in range(n_iters):\n",
    "        p.iteration(p_mut, sigma, p_cross, elite_count, tournament_size)\n",
    "        loss_history_x = np.concatenate((loss_history_x, np.repeat(epoch * n_iters + i, pop_size)))\n",
    "        loss_history_y = np.concatenate((loss_history_y, np.array(list(map(lambda x: x.eval(), p.individuals)))))\n",
    "    print(\"epoch \" + str(epoch) + \": \")\n",
    "    plt.scatter(loss_history_x, loss_history_y, alpha=0.3)\n",
    "    plt.title(\"Stała sigma = \" + str(sigma))\n",
    "    print(p.best().eval())"
   ]
  },
  {
   "cell_type": "code",
   "execution_count": 49,
   "metadata": {},
   "outputs": [
    {
     "name": "stdout",
     "output_type": "stream",
     "text": [
      "epoch 0: \n",
      "2666.850962030422\n",
      "epoch 1: \n",
      "2510.4163867562515\n",
      "epoch 2: \n",
      "2493.3239250303536\n",
      "epoch 3: \n",
      "2481.4150850201263\n",
      "epoch 4: \n",
      "2481.3364013642304\n",
      "epoch 5: \n",
      "2481.307084388019\n",
      "epoch 6: \n",
      "2478.750245079061\n",
      "epoch 7: \n",
      "2478.750245079061\n",
      "epoch 8: \n",
      "2478.750245079061\n",
      "epoch 9: \n",
      "2478.7411470036054\n"
     ]
    },
    {
     "data": {
      "image/png": "[encoded data removed]",
      "text/plain": [
       "<Figure size 432x288 with 1 Axes>"
      ]
     },
     "metadata": {
      "needs_background": "light"
     },
     "output_type": "display_data"
    }
   ],
   "source": [
    "pop_size = 40\n",
    "p_mut = 0.25\n",
    "sigma = 1\n",
    "p_cross = 0.5\n",
    "elite_count = 10\n",
    "tournament_size = 4\n",
    "layers_sizes = [5, 5, 1]\n",
    "layers_activations = [\"sigmoid\", \"sigmoid\", \"identity\"]\n",
    "p = Population(pop_size, 1, layers_sizes, layers_activations, multimodal_train_X, multimodal_train_Y)\n",
    "n_epochs = 10\n",
    "n_iters = 200\n",
    "loss_history_x = np.array([])\n",
    "loss_history_y = np.array([])\n",
    "for epoch in range(n_epochs):\n",
    "    for i in range(n_iters):\n",
    "        p.iteration(p_mut, sigma, p_cross, elite_count, tournament_size)\n",
    "        loss_history_x = np.concatenate((loss_history_x, np.repeat(epoch * n_iters + i, pop_size)))\n",
    "        loss_history_y = np.concatenate((loss_history_y, np.array(list(map(lambda x: x.eval(), p.individuals)))))\n",
    "    print(\"epoch \" + str(epoch) + \": \")\n",
    "    plt.scatter(loss_history_x, loss_history_y, alpha=0.3)\n",
    "    plt.title(\"Stała sigma = \" + str(sigma))\n",
    "    print(p.best().eval())"
   ]
  },
  {
   "cell_type": "code",
   "execution_count": 122,
   "metadata": {},
   "outputs": [
    {
     "name": "stderr",
     "output_type": "stream",
     "text": [
      "<ipython-input-122-e46f22873563>:15: RuntimeWarning: divide by zero encountered in double_scalars\n",
      "  sigma = 20 / np.sqrt(epoch * n_epochs + i)\n"
     ]
    },
    {
     "name": "stdout",
     "output_type": "stream",
     "text": [
      "epoch 0: \n",
      "1793.5775591215033\n",
      "epoch 1: \n",
      "1507.889532864471\n",
      "epoch 2: \n",
      "1285.8353126020488\n",
      "epoch 3: \n",
      "1168.01116835884\n",
      "epoch 4: \n",
      "1165.0517851261757\n",
      "epoch 5: \n",
      "1072.429912300799\n",
      "epoch 6: \n",
      "1055.8555618462312\n",
      "epoch 7: \n",
      "1055.8555618462312\n",
      "epoch 8: \n",
      "1055.8555618462312\n",
      "epoch 9: \n",
      "1030.4186057007244\n"
     ]
    },
    {
     "data": {
      "image/png": "[encoded data removed]",
      "text/plain": [
       "<Figure size 432x288 with 1 Axes>"
      ]
     },
     "metadata": {
      "needs_background": "light"
     },
     "output_type": "display_data"
    }
   ],
   "source": [
    "pop_size = 40\n",
    "p_mut = 0.25\n",
    "p_cross = 0.5\n",
    "elite_count = 10\n",
    "tournament_size = 4\n",
    "layers_sizes = [5, 5, 1]\n",
    "layers_activations = [\"sigmoid\", \"sigmoid\", \"identity\"]\n",
    "p = Population(pop_size, 1, layers_sizes, layers_activations, multimodal_train_X, multimodal_train_Y)\n",
    "n_epochs = 10\n",
    "n_iters = 200\n",
    "loss_history_x = np.array([])\n",
    "loss_history_y = np.array([])\n",
    "for epoch in range(n_epochs):\n",
    "    for i in range(n_iters):\n",
    "        sigma = 20 / np.sqrt(epoch * n_epochs + i)\n",
    "        p.iteration(p_mut, sigma, p_cross, elite_count, tournament_size)\n",
    "        loss_history_x = np.concatenate((loss_history_x, np.repeat(epoch * n_iters + i, pop_size)))\n",
    "        loss_history_y = np.concatenate((loss_history_y, np.array(list(map(lambda x: x.eval(), p.individuals)))))\n",
    "    print(\"epoch \" + str(epoch) + \": \")\n",
    "    plt.scatter(loss_history_x, loss_history_y, alpha=0.3)\n",
    "    plt.title(\"Stała sigma = 20 / sqrt(i)\")\n",
    "    print(p.best().eval())"
   ]
  },
  {
   "cell_type": "code",
   "execution_count": 124,
   "metadata": {},
   "outputs": [],
   "source": [
    "preds = p.best().net.predict(multimodal_train_X)"
   ]
  },
  {
   "cell_type": "code",
   "execution_count": 125,
   "metadata": {},
   "outputs": [
    {
     "data": {
      "text/plain": [
       "<matplotlib.collections.PathCollection at 0x7fd27cecb5e0>"
      ]
     },
     "execution_count": 125,
     "metadata": {},
     "output_type": "execute_result"
    },
    {
     "data": {
      "image/png": "[encoded data removed]",
      "text/plain": [
       "<Figure size 432x288 with 1 Axes>"
      ]
     },
     "metadata": {
      "needs_background": "light"
     },
     "output_type": "display_data"
    }
   ],
   "source": [
    "plt.scatter(multimodal_train_X, preds)"
   ]
  },
  {
   "cell_type": "code",
   "execution_count": 127,
   "metadata": {},
   "outputs": [
    {
     "data": {
      "text/plain": [
       "<matplotlib.collections.PathCollection at 0x7fd2740797c0>"
      ]
     },
     "execution_count": 127,
     "metadata": {},
     "output_type": "execute_result"
    },
    {
     "data": {
      "image/png": "[encoded data removed]",
      "text/plain": [
       "<Figure size 432x288 with 1 Axes>"
      ]
     },
     "metadata": {
      "needs_background": "light"
     },
     "output_type": "display_data"
    }
   ],
   "source": [
    "plt.scatter(multimodal_train_X, multimodal_train_Y)"
   ]
  },
  {
   "cell_type": "code",
   "execution_count": 53,
   "metadata": {},
   "outputs": [
    {
     "name": "stderr",
     "output_type": "stream",
     "text": [
      "<ipython-input-53-3711e98dd149>:15: RuntimeWarning: divide by zero encountered in double_scalars\n",
      "  sigma = 20 / np.sqrt(epoch * n_epochs + i)\n"
     ]
    },
    {
     "name": "stdout",
     "output_type": "stream",
     "text": [
      "epoch 0: \n",
      "1555.522094779034\n",
      "epoch 1: \n",
      "1495.5302848809306\n",
      "epoch 2: \n",
      "1457.0418810861765\n",
      "epoch 3: \n",
      "1451.183749726752\n",
      "epoch 4: \n",
      "1450.0536975300488\n",
      "epoch 5: \n",
      "1448.685023398024\n",
      "epoch 6: \n",
      "1448.685023398024\n",
      "epoch 7: \n",
      "1448.685023398024\n",
      "epoch 8: \n",
      "1448.685023398024\n",
      "epoch 9: \n",
      "1440.4265329439113\n"
     ]
    },
    {
     "data": {
      "image/png": "[encoded data removed]",
      "text/plain": [
       "<Figure size 432x288 with 1 Axes>"
      ]
     },
     "metadata": {
      "needs_background": "light"
     },
     "output_type": "display_data"
    }
   ],
   "source": [
    "pop_size = 40\n",
    "p_mut = 0.25\n",
    "p_cross = 0.5\n",
    "elite_count = 10\n",
    "tournament_size = 4\n",
    "layers_sizes = [5, 5, 1]\n",
    "layers_activations = [\"sigmoid\", \"sigmoid\", \"identity\"]\n",
    "p = Population(pop_size, 1, layers_sizes, layers_activations, multimodal_train_X, multimodal_train_Y)\n",
    "n_epochs = 10\n",
    "n_iters = 200\n",
    "loss_history_x = np.array([])\n",
    "loss_history_y = np.array([])\n",
    "for epoch in range(n_epochs):\n",
    "    for i in range(n_iters):\n",
    "        sigma = 20 / np.sqrt(epoch * n_epochs + i)\n",
    "        p.iteration(p_mut, sigma, p_cross, elite_count, tournament_size)\n",
    "        loss_history_x = np.concatenate((loss_history_x, np.repeat(epoch * n_iters + i, pop_size)))\n",
    "        loss_history_y = np.concatenate((loss_history_y, np.array(list(map(lambda x: x.eval(), p.individuals)))))\n",
    "    print(\"epoch \" + str(epoch) + \": \")\n",
    "    plt.scatter(loss_history_x, loss_history_y, alpha=0.3)\n",
    "    plt.title(\"Stała sigma = 20 / i\")\n",
    "    print(p.best().eval())"
   ]
  },
  {
   "cell_type": "markdown",
   "metadata": {},
   "source": [
    "# iris"
   ]
  },
  {
   "cell_type": "code",
   "execution_count": 129,
   "metadata": {},
   "outputs": [],
   "source": [
    "iris = pd.read_csv(\"../data/iris.data\", header = None)\n",
    "dummies = pd.get_dummies(iris[4])\n",
    "iris = iris.drop(columns=4).join(dummies)\n",
    "iris\n",
    "y = iris[0].values\n",
    "y = y.reshape((len(y), 1))\n",
    "x = iris.drop(columns=0).values"
   ]
  },
  {
   "cell_type": "code",
   "execution_count": 130,
   "metadata": {},
   "outputs": [
    {
     "name": "stdout",
     "output_type": "stream",
     "text": [
      "epoch 0: \n",
      "0.17484348944544265\n",
      "epoch 1: \n",
      "0.1409002000285593\n",
      "epoch 2: \n",
      "0.11722972325034169\n",
      "epoch 3: \n",
      "0.0954502492452798\n",
      "epoch 4: \n",
      "0.0954502492452798\n",
      "epoch 5: \n",
      "0.0954502492452798\n",
      "epoch 6: \n",
      "0.0954502492452798\n",
      "epoch 7: \n",
      "0.0954502492452798\n",
      "epoch 8: \n",
      "0.0954502492452798\n",
      "epoch 9: \n",
      "0.0954502492452798\n"
     ]
    },
    {
     "data": {
      "image/png": "[encoded data removed]",
      "text/plain": [
       "<Figure size 432x288 with 1 Axes>"
      ]
     },
     "metadata": {
      "needs_background": "light"
     },
     "output_type": "display_data"
    }
   ],
   "source": [
    "pop_size = 200\n",
    "p_mut = 0.4\n",
    "p_cross = 0.8\n",
    "elite_count = 20\n",
    "tournament_size = 4\n",
    "layers_sizes = [50, 50, 50, 1]\n",
    "layers_activations = [\"ReLU\", \"ReLU\", \"ReLU\", \"identity\"]\n",
    "p = Population(pop_size, np.shape(x)[1], layers_sizes, layers_activations, x, y)\n",
    "n_epochs = 10\n",
    "n_iters = 500\n",
    "loss_history_x = np.array([])\n",
    "loss_history_y = np.array([])\n",
    "for epoch in range(n_epochs):\n",
    "    for i in range(n_iters):\n",
    "        sigma = 10/np.log(epoch * n_iters + i + 2)\n",
    "        p.iteration(p_mut, sigma, p_cross, elite_count, tournament_size)\n",
    "        loss_history_x = np.concatenate((loss_history_x, np.repeat(epoch * n_iters + i, pop_size)))\n",
    "        loss_history_y = np.concatenate((loss_history_y, np.array(list(map(lambda x: x.eval(), p.individuals)))))\n",
    "    print(\"epoch \" + str(epoch) + \": \")\n",
    "    plt.scatter(loss_history_x, loss_history_y, alpha=0.3)\n",
    "    print(p.best().eval())"
   ]
  },
  {
   "cell_type": "code",
   "execution_count": 131,
   "metadata": {},
   "outputs": [
    {
     "data": {
      "text/plain": [
       "<matplotlib.collections.PathCollection at 0x7fd27c158700>"
      ]
     },
     "execution_count": 131,
     "metadata": {},
     "output_type": "execute_result"
    },
    {
     "data": {
      "image/png": "[encoded data removed]",
      "text/plain": [
       "<Figure size 432x288 with 1 Axes>"
      ]
     },
     "metadata": {
      "needs_background": "light"
     },
     "output_type": "display_data"
    }
   ],
   "source": [
    "plt.scatter(loss_history_x[pop_size*10::pop_size], loss_history_y[pop_size*10::pop_size], alpha=0.3)"
   ]
  },
  {
   "cell_type": "markdown",
   "metadata": {},
   "source": [
    "# auto-mpg"
   ]
  },
  {
   "cell_type": "code",
   "execution_count": 68,
   "metadata": {},
   "outputs": [],
   "source": [
    "widths = [7, 4, 10, 10, 11, 7, 4, 4, 30]\n",
    "df = pd.read_fwf(\"../data/auto-mpg.data\", widths=widths, header=None, na_values=['?'])\n",
    "df = df.dropna()\n",
    "#dummies = pd.get_dummies(df[8])\n",
    "df = df.drop(columns=[7,8])#.join(dummies)\n",
    "y = df[0].values\n",
    "y = y.reshape((len(y), 1))\n",
    "x = df.drop(columns=0).values"
   ]
  },
  {
   "cell_type": "code",
   "execution_count": 69,
   "metadata": {},
   "outputs": [
    {
     "data": {
      "text/html": [
       "<div>\n",
       "<style scoped>\n",
       "    .dataframe tbody tr th:only-of-type {\n",
       "        vertical-align: middle;\n",
       "    }\n",
       "\n",
       "    .dataframe tbody tr th {\n",
       "        vertical-align: top;\n",
       "    }\n",
       "\n",
       "    .dataframe thead th {\n",
       "        text-align: right;\n",
       "    }\n",
       "</style>\n",
       "<table border=\"1\" class=\"dataframe\">\n",
       "  <thead>\n",
       "    <tr style=\"text-align: right;\">\n",
       "      <th></th>\n",
       "      <th>0</th>\n",
       "      <th>1</th>\n",
       "      <th>2</th>\n",
       "      <th>3</th>\n",
       "      <th>4</th>\n",
       "      <th>5</th>\n",
       "      <th>6</th>\n",
       "    </tr>\n",
       "  </thead>\n",
       "  <tbody>\n",
       "    <tr>\n",
       "      <th>0</th>\n",
       "      <td>18.0</td>\n",
       "      <td>8</td>\n",
       "      <td>307.0</td>\n",
       "      <td>130.0</td>\n",
       "      <td>3504.0</td>\n",
       "      <td>12.0</td>\n",
       "      <td>70</td>\n",
       "    </tr>\n",
       "    <tr>\n",
       "      <th>1</th>\n",
       "      <td>15.0</td>\n",
       "      <td>8</td>\n",
       "      <td>350.0</td>\n",
       "      <td>165.0</td>\n",
       "      <td>3693.0</td>\n",
       "      <td>11.5</td>\n",
       "      <td>70</td>\n",
       "    </tr>\n",
       "    <tr>\n",
       "      <th>2</th>\n",
       "      <td>18.0</td>\n",
       "      <td>8</td>\n",
       "      <td>318.0</td>\n",
       "      <td>150.0</td>\n",
       "      <td>3436.0</td>\n",
       "      <td>11.0</td>\n",
       "      <td>70</td>\n",
       "    </tr>\n",
       "    <tr>\n",
       "      <th>3</th>\n",
       "      <td>16.0</td>\n",
       "      <td>8</td>\n",
       "      <td>304.0</td>\n",
       "      <td>150.0</td>\n",
       "      <td>3433.0</td>\n",
       "      <td>12.0</td>\n",
       "      <td>70</td>\n",
       "    </tr>\n",
       "    <tr>\n",
       "      <th>4</th>\n",
       "      <td>17.0</td>\n",
       "      <td>8</td>\n",
       "      <td>302.0</td>\n",
       "      <td>140.0</td>\n",
       "      <td>3449.0</td>\n",
       "      <td>10.5</td>\n",
       "      <td>70</td>\n",
       "    </tr>\n",
       "    <tr>\n",
       "      <th>...</th>\n",
       "      <td>...</td>\n",
       "      <td>...</td>\n",
       "      <td>...</td>\n",
       "      <td>...</td>\n",
       "      <td>...</td>\n",
       "      <td>...</td>\n",
       "      <td>...</td>\n",
       "    </tr>\n",
       "    <tr>\n",
       "      <th>393</th>\n",
       "      <td>27.0</td>\n",
       "      <td>4</td>\n",
       "      <td>140.0</td>\n",
       "      <td>86.0</td>\n",
       "      <td>2790.0</td>\n",
       "      <td>15.6</td>\n",
       "      <td>82</td>\n",
       "    </tr>\n",
       "    <tr>\n",
       "      <th>394</th>\n",
       "      <td>44.0</td>\n",
       "      <td>4</td>\n",
       "      <td>97.0</td>\n",
       "      <td>52.0</td>\n",
       "      <td>2130.0</td>\n",
       "      <td>24.6</td>\n",
       "      <td>82</td>\n",
       "    </tr>\n",
       "    <tr>\n",
       "      <th>395</th>\n",
       "      <td>32.0</td>\n",
       "      <td>4</td>\n",
       "      <td>135.0</td>\n",
       "      <td>84.0</td>\n",
       "      <td>2295.0</td>\n",
       "      <td>11.6</td>\n",
       "      <td>82</td>\n",
       "    </tr>\n",
       "    <tr>\n",
       "      <th>396</th>\n",
       "      <td>28.0</td>\n",
       "      <td>4</td>\n",
       "      <td>120.0</td>\n",
       "      <td>79.0</td>\n",
       "      <td>2625.0</td>\n",
       "      <td>18.6</td>\n",
       "      <td>82</td>\n",
       "    </tr>\n",
       "    <tr>\n",
       "      <th>397</th>\n",
       "      <td>31.0</td>\n",
       "      <td>4</td>\n",
       "      <td>119.0</td>\n",
       "      <td>82.0</td>\n",
       "      <td>2720.0</td>\n",
       "      <td>19.4</td>\n",
       "      <td>82</td>\n",
       "    </tr>\n",
       "  </tbody>\n",
       "</table>\n",
       "<p>392 rows × 7 columns</p>\n",
       "</div>"
      ],
      "text/plain": [
       "        0  1      2      3       4     5   6\n",
       "0    18.0  8  307.0  130.0  3504.0  12.0  70\n",
       "1    15.0  8  350.0  165.0  3693.0  11.5  70\n",
       "2    18.0  8  318.0  150.0  3436.0  11.0  70\n",
       "3    16.0  8  304.0  150.0  3433.0  12.0  70\n",
       "4    17.0  8  302.0  140.0  3449.0  10.5  70\n",
       "..    ... ..    ...    ...     ...   ...  ..\n",
       "393  27.0  4  140.0   86.0  2790.0  15.6  82\n",
       "394  44.0  4   97.0   52.0  2130.0  24.6  82\n",
       "395  32.0  4  135.0   84.0  2295.0  11.6  82\n",
       "396  28.0  4  120.0   79.0  2625.0  18.6  82\n",
       "397  31.0  4  119.0   82.0  2720.0  19.4  82\n",
       "\n",
       "[392 rows x 7 columns]"
      ]
     },
     "execution_count": 69,
     "metadata": {},
     "output_type": "execute_result"
    }
   ],
   "source": [
    "df"
   ]
  },
  {
   "cell_type": "code",
   "execution_count": 75,
   "metadata": {},
   "outputs": [
    {
     "data": {
      "text/plain": [
       "((392, 6), (392, 1), 6)"
      ]
     },
     "execution_count": 75,
     "metadata": {},
     "output_type": "execute_result"
    }
   ],
   "source": [
    "np.shape(x), np.shape(y), np.shape(x)[1]"
   ]
  },
  {
   "cell_type": "code",
   "execution_count": 71,
   "metadata": {},
   "outputs": [
    {
     "data": {
      "text/plain": [
       "((1000, 1), (1000, 1))"
      ]
     },
     "execution_count": 71,
     "metadata": {},
     "output_type": "execute_result"
    }
   ],
   "source": [
    "np.shape(multimodal_test_X), np.shape(multimodal_test_Y)"
   ]
  },
  {
   "cell_type": "code",
   "execution_count": 81,
   "metadata": {},
   "outputs": [
    {
     "name": "stdout",
     "output_type": "stream",
     "text": [
      "epoch 0: \n",
      "28.39525700248645\n",
      "epoch 1: \n",
      "25.868917603085443\n",
      "epoch 2: \n",
      "25.49387561786275\n",
      "epoch 3: \n",
      "25.49387561786275\n",
      "epoch 4: \n",
      "25.15074724411366\n",
      "epoch 5: \n",
      "25.03725929988653\n",
      "epoch 6: \n",
      "22.024699485976015\n",
      "epoch 7: \n",
      "21.833839592505914\n",
      "epoch 8: \n",
      "21.77705379088723\n",
      "epoch 9: \n",
      "21.7681005790676\n"
     ]
    },
    {
     "data": {
      "image/png": "[encoded data removed]",
      "text/plain": [
       "<Figure size 432x288 with 1 Axes>"
      ]
     },
     "metadata": {
      "needs_background": "light"
     },
     "output_type": "display_data"
    }
   ],
   "source": [
    "pop_size = 100\n",
    "p_mut = 0.4\n",
    "p_cross = 0.8\n",
    "elite_count = 10\n",
    "tournament_size = 4\n",
    "layers_sizes = [25, 25, 25, 5, 1]\n",
    "sigma = 0.1\n",
    "layers_activations = [\"sigmoid\", \"sigmoid\", \"sigmoid\", \"sigmoid\", \"identity\"]\n",
    "p = Population(pop_size, np.shape(x)[1], layers_sizes, layers_activations, x, y)\n",
    "n_epochs = 10\n",
    "n_iters = 200\n",
    "loss_history_x = np.array([])\n",
    "loss_history_y = np.array([])\n",
    "for epoch in range(n_epochs):\n",
    "    for i in range(n_iters):\n",
    "        p.iteration(p_mut, sigma, p_cross, elite_count, tournament_size)\n",
    "        loss_history_x = np.concatenate((loss_history_x, np.repeat(epoch * n_iters + i, pop_size)))\n",
    "        loss_history_y = np.concatenate((loss_history_y, np.array(list(map(lambda x: x.eval(), p.individuals)))))\n",
    "    print(\"epoch \" + str(epoch) + \": \")\n",
    "    #plt.scatter(loss_history_x, loss_history_y, alpha=0.3)\n",
    "    plt.scatter(loss_history_x[100:], loss_history_y[100:], alpha=0.3)\n",
    "    print(p.best().eval())"
   ]
  },
  {
   "cell_type": "code",
   "execution_count": 128,
   "metadata": {},
   "outputs": [
    {
     "name": "stdout",
     "output_type": "stream",
     "text": [
      "epoch 0: \n",
      "0.19337424549768437\n"
     ]
    },
    {
     "ename": "KeyboardInterrupt",
     "evalue": "",
     "output_type": "error",
     "traceback": [
      "\u001b[0;31m---------------------------------------------------------------------------\u001b[0m",
      "\u001b[0;31mKeyboardInterrupt\u001b[0m                         Traceback (most recent call last)",
      "\u001b[0;32m<ipython-input-128-4e95d12b6c83>\u001b[0m in \u001b[0;36m<module>\u001b[0;34m\u001b[0m\n\u001b[1;32m     15\u001b[0m     \u001b[0;32mfor\u001b[0m \u001b[0mi\u001b[0m \u001b[0;32min\u001b[0m \u001b[0mrange\u001b[0m\u001b[0;34m(\u001b[0m\u001b[0mn_iters\u001b[0m\u001b[0;34m)\u001b[0m\u001b[0;34m:\u001b[0m\u001b[0;34m\u001b[0m\u001b[0;34m\u001b[0m\u001b[0m\n\u001b[1;32m     16\u001b[0m         \u001b[0msigma\u001b[0m \u001b[0;34m=\u001b[0m \u001b[0;36m10\u001b[0m\u001b[0;34m/\u001b[0m\u001b[0mnp\u001b[0m\u001b[0;34m.\u001b[0m\u001b[0mlog\u001b[0m\u001b[0;34m(\u001b[0m\u001b[0mepoch\u001b[0m \u001b[0;34m*\u001b[0m \u001b[0mn_iters\u001b[0m \u001b[0;34m+\u001b[0m \u001b[0mi\u001b[0m \u001b[0;34m+\u001b[0m \u001b[0;36m2\u001b[0m\u001b[0;34m)\u001b[0m\u001b[0;34m\u001b[0m\u001b[0;34m\u001b[0m\u001b[0m\n\u001b[0;32m---> 17\u001b[0;31m         \u001b[0mp\u001b[0m\u001b[0;34m.\u001b[0m\u001b[0miteration\u001b[0m\u001b[0;34m(\u001b[0m\u001b[0mp_mut\u001b[0m\u001b[0;34m,\u001b[0m \u001b[0msigma\u001b[0m\u001b[0;34m,\u001b[0m \u001b[0mp_cross\u001b[0m\u001b[0;34m,\u001b[0m \u001b[0melite_count\u001b[0m\u001b[0;34m,\u001b[0m \u001b[0mtournament_size\u001b[0m\u001b[0;34m)\u001b[0m\u001b[0;34m\u001b[0m\u001b[0;34m\u001b[0m\u001b[0m\n\u001b[0m\u001b[1;32m     18\u001b[0m         \u001b[0mloss_history_x\u001b[0m \u001b[0;34m=\u001b[0m \u001b[0mnp\u001b[0m\u001b[0;34m.\u001b[0m\u001b[0mconcatenate\u001b[0m\u001b[0;34m(\u001b[0m\u001b[0;34m(\u001b[0m\u001b[0mloss_history_x\u001b[0m\u001b[0;34m,\u001b[0m \u001b[0mnp\u001b[0m\u001b[0;34m.\u001b[0m\u001b[0mrepeat\u001b[0m\u001b[0;34m(\u001b[0m\u001b[0mepoch\u001b[0m \u001b[0;34m*\u001b[0m \u001b[0mn_iters\u001b[0m \u001b[0;34m+\u001b[0m \u001b[0mi\u001b[0m\u001b[0;34m,\u001b[0m \u001b[0mpop_size\u001b[0m\u001b[0;34m)\u001b[0m\u001b[0;34m)\u001b[0m\u001b[0;34m)\u001b[0m\u001b[0;34m\u001b[0m\u001b[0;34m\u001b[0m\u001b[0m\n\u001b[1;32m     19\u001b[0m         \u001b[0mloss_history_y\u001b[0m \u001b[0;34m=\u001b[0m \u001b[0mnp\u001b[0m\u001b[0;34m.\u001b[0m\u001b[0mconcatenate\u001b[0m\u001b[0;34m(\u001b[0m\u001b[0;34m(\u001b[0m\u001b[0mloss_history_y\u001b[0m\u001b[0;34m,\u001b[0m \u001b[0mnp\u001b[0m\u001b[0;34m.\u001b[0m\u001b[0marray\u001b[0m\u001b[0;34m(\u001b[0m\u001b[0mlist\u001b[0m\u001b[0;34m(\u001b[0m\u001b[0mmap\u001b[0m\u001b[0;34m(\u001b[0m\u001b[0;32mlambda\u001b[0m \u001b[0mx\u001b[0m\u001b[0;34m:\u001b[0m \u001b[0mx\u001b[0m\u001b[0;34m.\u001b[0m\u001b[0meval\u001b[0m\u001b[0;34m(\u001b[0m\u001b[0;34m)\u001b[0m\u001b[0;34m,\u001b[0m \u001b[0mp\u001b[0m\u001b[0;34m.\u001b[0m\u001b[0mindividuals\u001b[0m\u001b[0;34m)\u001b[0m\u001b[0;34m)\u001b[0m\u001b[0;34m)\u001b[0m\u001b[0;34m)\u001b[0m\u001b[0;34m)\u001b[0m\u001b[0;34m\u001b[0m\u001b[0;34m\u001b[0m\u001b[0m\n",
      "\u001b[0;32m~/PycharmProjects/ae/Neuroevo.py\u001b[0m in \u001b[0;36miteration\u001b[0;34m(self, p_mutation, sigma, p_crossing, elite_count, tournament_size)\u001b[0m\n\u001b[1;32m     74\u001b[0m \u001b[0;34m\u001b[0m\u001b[0m\n\u001b[1;32m     75\u001b[0m     \u001b[0;32mdef\u001b[0m \u001b[0miteration\u001b[0m\u001b[0;34m(\u001b[0m\u001b[0mself\u001b[0m\u001b[0;34m,\u001b[0m \u001b[0mp_mutation\u001b[0m\u001b[0;34m,\u001b[0m \u001b[0msigma\u001b[0m\u001b[0;34m,\u001b[0m \u001b[0mp_crossing\u001b[0m\u001b[0;34m,\u001b[0m \u001b[0melite_count\u001b[0m\u001b[0;34m,\u001b[0m \u001b[0mtournament_size\u001b[0m\u001b[0;34m)\u001b[0m\u001b[0;34m:\u001b[0m\u001b[0;34m\u001b[0m\u001b[0;34m\u001b[0m\u001b[0m\n\u001b[0;32m---> 76\u001b[0;31m         \u001b[0mself\u001b[0m\u001b[0;34m.\u001b[0m\u001b[0mmutations\u001b[0m\u001b[0;34m(\u001b[0m\u001b[0msigma\u001b[0m\u001b[0;34m,\u001b[0m \u001b[0mp_mutation\u001b[0m\u001b[0;34m)\u001b[0m\u001b[0;34m\u001b[0m\u001b[0;34m\u001b[0m\u001b[0m\n\u001b[0m\u001b[1;32m     77\u001b[0m         \u001b[0mself\u001b[0m\u001b[0;34m.\u001b[0m\u001b[0mcrossings\u001b[0m\u001b[0;34m(\u001b[0m\u001b[0mp_crossing\u001b[0m\u001b[0;34m)\u001b[0m\u001b[0;34m\u001b[0m\u001b[0;34m\u001b[0m\u001b[0m\n\u001b[1;32m     78\u001b[0m         \u001b[0mself\u001b[0m\u001b[0;34m.\u001b[0m\u001b[0mselection\u001b[0m\u001b[0;34m(\u001b[0m\u001b[0melite_count\u001b[0m\u001b[0;34m,\u001b[0m \u001b[0mtournament_size\u001b[0m\u001b[0;34m)\u001b[0m\u001b[0;34m\u001b[0m\u001b[0;34m\u001b[0m\u001b[0m\n",
      "\u001b[0;32m~/PycharmProjects/ae/Neuroevo.py\u001b[0m in \u001b[0;36mmutations\u001b[0;34m(self, sigma, p)\u001b[0m\n\u001b[1;32m     47\u001b[0m         \u001b[0;32mfor\u001b[0m \u001b[0mindividual\u001b[0m \u001b[0;32min\u001b[0m \u001b[0mself\u001b[0m\u001b[0;34m.\u001b[0m\u001b[0mindividuals\u001b[0m\u001b[0;34m[\u001b[0m\u001b[0;34m:\u001b[0m\u001b[0mself\u001b[0m\u001b[0;34m.\u001b[0m\u001b[0msize\u001b[0m\u001b[0;34m]\u001b[0m\u001b[0;34m:\u001b[0m\u001b[0;34m\u001b[0m\u001b[0;34m\u001b[0m\u001b[0m\n\u001b[1;32m     48\u001b[0m             \u001b[0;32mif\u001b[0m \u001b[0mrandom\u001b[0m\u001b[0;34m.\u001b[0m\u001b[0muniform\u001b[0m\u001b[0;34m(\u001b[0m\u001b[0;36m0\u001b[0m\u001b[0;34m,\u001b[0m \u001b[0;36m1\u001b[0m\u001b[0;34m)\u001b[0m \u001b[0;34m<\u001b[0m \u001b[0mp\u001b[0m\u001b[0;34m:\u001b[0m\u001b[0;34m\u001b[0m\u001b[0;34m\u001b[0m\u001b[0m\n\u001b[0;32m---> 49\u001b[0;31m                 \u001b[0mself\u001b[0m\u001b[0;34m.\u001b[0m\u001b[0mindividuals\u001b[0m\u001b[0;34m.\u001b[0m\u001b[0mappend\u001b[0m\u001b[0;34m(\u001b[0m\u001b[0mindividual\u001b[0m\u001b[0;34m.\u001b[0m\u001b[0mmutation\u001b[0m\u001b[0;34m(\u001b[0m\u001b[0msigma\u001b[0m\u001b[0;34m)\u001b[0m\u001b[0;34m)\u001b[0m\u001b[0;34m\u001b[0m\u001b[0;34m\u001b[0m\u001b[0m\n\u001b[0m\u001b[1;32m     50\u001b[0m \u001b[0;34m\u001b[0m\u001b[0m\n\u001b[1;32m     51\u001b[0m     \u001b[0;32mdef\u001b[0m \u001b[0mcrossings\u001b[0m\u001b[0;34m(\u001b[0m\u001b[0mself\u001b[0m\u001b[0;34m,\u001b[0m \u001b[0mp\u001b[0m\u001b[0;34m)\u001b[0m\u001b[0;34m:\u001b[0m\u001b[0;34m\u001b[0m\u001b[0;34m\u001b[0m\u001b[0m\n",
      "\u001b[0;32m~/PycharmProjects/ae/Neuroevo.py\u001b[0m in \u001b[0;36mmutation\u001b[0;34m(self, sigma)\u001b[0m\n\u001b[1;32m     22\u001b[0m         \u001b[0mmutant_net\u001b[0m\u001b[0;34m.\u001b[0m\u001b[0mlayers\u001b[0m\u001b[0;34m[\u001b[0m\u001b[0mselected_layer_i\u001b[0m\u001b[0;34m]\u001b[0m\u001b[0;34m.\u001b[0m\u001b[0mweights\u001b[0m \u001b[0;34m=\u001b[0m \u001b[0mnp\u001b[0m\u001b[0;34m.\u001b[0m\u001b[0mrandom\u001b[0m\u001b[0;34m.\u001b[0m\u001b[0mnormal\u001b[0m\u001b[0;34m(\u001b[0m\u001b[0mmutant_net\u001b[0m\u001b[0;34m.\u001b[0m\u001b[0mlayers\u001b[0m\u001b[0;34m[\u001b[0m\u001b[0mselected_layer_i\u001b[0m\u001b[0;34m]\u001b[0m\u001b[0;34m.\u001b[0m\u001b[0mweights\u001b[0m\u001b[0;34m,\u001b[0m \u001b[0msigma\u001b[0m\u001b[0;34m)\u001b[0m\u001b[0;34m\u001b[0m\u001b[0;34m\u001b[0m\u001b[0m\n\u001b[1;32m     23\u001b[0m         \u001b[0mmutant_net\u001b[0m\u001b[0;34m.\u001b[0m\u001b[0mlayers\u001b[0m\u001b[0;34m[\u001b[0m\u001b[0mselected_layer_i\u001b[0m\u001b[0;34m]\u001b[0m\u001b[0;34m.\u001b[0m\u001b[0mbiases\u001b[0m \u001b[0;34m=\u001b[0m \u001b[0mnp\u001b[0m\u001b[0;34m.\u001b[0m\u001b[0mrandom\u001b[0m\u001b[0;34m.\u001b[0m\u001b[0mnormal\u001b[0m\u001b[0;34m(\u001b[0m\u001b[0mmutant_net\u001b[0m\u001b[0;34m.\u001b[0m\u001b[0mlayers\u001b[0m\u001b[0;34m[\u001b[0m\u001b[0mselected_layer_i\u001b[0m\u001b[0;34m]\u001b[0m\u001b[0;34m.\u001b[0m\u001b[0mbiases\u001b[0m\u001b[0;34m,\u001b[0m \u001b[0msigma\u001b[0m\u001b[0;34m)\u001b[0m\u001b[0;34m\u001b[0m\u001b[0;34m\u001b[0m\u001b[0m\n\u001b[0;32m---> 24\u001b[0;31m         \u001b[0;32mreturn\u001b[0m \u001b[0mIndividual\u001b[0m\u001b[0;34m(\u001b[0m\u001b[0mmutant_net\u001b[0m\u001b[0;34m,\u001b[0m \u001b[0mself\u001b[0m\u001b[0;34m.\u001b[0m\u001b[0mx\u001b[0m\u001b[0;34m,\u001b[0m \u001b[0mself\u001b[0m\u001b[0;34m.\u001b[0m\u001b[0my\u001b[0m\u001b[0;34m)\u001b[0m\u001b[0;34m\u001b[0m\u001b[0;34m\u001b[0m\u001b[0m\n\u001b[0m\u001b[1;32m     25\u001b[0m \u001b[0;34m\u001b[0m\u001b[0m\n\u001b[1;32m     26\u001b[0m     \u001b[0;32mdef\u001b[0m \u001b[0mcrossing\u001b[0m\u001b[0;34m(\u001b[0m\u001b[0mself\u001b[0m\u001b[0;34m,\u001b[0m \u001b[0mother\u001b[0m\u001b[0;34m)\u001b[0m\u001b[0;34m:\u001b[0m\u001b[0;34m\u001b[0m\u001b[0;34m\u001b[0m\u001b[0m\n",
      "\u001b[0;32m~/PycharmProjects/ae/Neuroevo.py\u001b[0m in \u001b[0;36m__init__\u001b[0;34m(self, net, x, y)\u001b[0m\n\u001b[1;32m     12\u001b[0m         \u001b[0;31m# evaluating here, because we don't change individual, only generate new individuals\u001b[0m\u001b[0;34m\u001b[0m\u001b[0;34m\u001b[0m\u001b[0;34m\u001b[0m\u001b[0m\n\u001b[1;32m     13\u001b[0m         \u001b[0;31m# and evaluating is a very costly operation, so we do it only once for each individual\u001b[0m\u001b[0;34m\u001b[0m\u001b[0;34m\u001b[0m\u001b[0;34m\u001b[0m\u001b[0m\n\u001b[0;32m---> 14\u001b[0;31m         \u001b[0mself\u001b[0m\u001b[0;34m.\u001b[0m\u001b[0meval_value\u001b[0m \u001b[0;34m=\u001b[0m \u001b[0mself\u001b[0m\u001b[0;34m.\u001b[0m\u001b[0mnet\u001b[0m\u001b[0;34m.\u001b[0m\u001b[0mmse\u001b[0m\u001b[0;34m(\u001b[0m\u001b[0mx\u001b[0m\u001b[0;34m,\u001b[0m \u001b[0my\u001b[0m\u001b[0;34m)\u001b[0m\u001b[0;34m\u001b[0m\u001b[0;34m\u001b[0m\u001b[0m\n\u001b[0m\u001b[1;32m     15\u001b[0m \u001b[0;34m\u001b[0m\u001b[0m\n\u001b[1;32m     16\u001b[0m     \u001b[0;32mdef\u001b[0m \u001b[0meval\u001b[0m\u001b[0;34m(\u001b[0m\u001b[0mself\u001b[0m\u001b[0;34m)\u001b[0m\u001b[0;34m:\u001b[0m\u001b[0;34m\u001b[0m\u001b[0;34m\u001b[0m\u001b[0m\n",
      "\u001b[0;32m~/PycharmProjects/ae/my_net.py\u001b[0m in \u001b[0;36mmse\u001b[0;34m(self, input, output)\u001b[0m\n\u001b[1;32m    242\u001b[0m \u001b[0;34m\u001b[0m\u001b[0m\n\u001b[1;32m    243\u001b[0m     \u001b[0;32mdef\u001b[0m \u001b[0mmse\u001b[0m\u001b[0;34m(\u001b[0m\u001b[0mself\u001b[0m\u001b[0;34m,\u001b[0m \u001b[0minput\u001b[0m\u001b[0;34m,\u001b[0m \u001b[0moutput\u001b[0m\u001b[0;34m)\u001b[0m\u001b[0;34m:\u001b[0m\u001b[0;34m\u001b[0m\u001b[0;34m\u001b[0m\u001b[0m\n\u001b[0;32m--> 244\u001b[0;31m         \u001b[0;32mreturn\u001b[0m \u001b[0mnp\u001b[0m\u001b[0;34m.\u001b[0m\u001b[0mmean\u001b[0m\u001b[0;34m(\u001b[0m\u001b[0;34m(\u001b[0m\u001b[0mself\u001b[0m\u001b[0;34m.\u001b[0m\u001b[0mpredict\u001b[0m\u001b[0;34m(\u001b[0m\u001b[0minput\u001b[0m\u001b[0;34m)\u001b[0m \u001b[0;34m-\u001b[0m \u001b[0moutput\u001b[0m\u001b[0;34m)\u001b[0m \u001b[0;34m**\u001b[0m \u001b[0;36m2\u001b[0m\u001b[0;34m)\u001b[0m\u001b[0;34m\u001b[0m\u001b[0;34m\u001b[0m\u001b[0m\n\u001b[0m\u001b[1;32m    245\u001b[0m \u001b[0;34m\u001b[0m\u001b[0m\n\u001b[1;32m    246\u001b[0m     \u001b[0;32mdef\u001b[0m \u001b[0mcrossentropy\u001b[0m\u001b[0;34m(\u001b[0m\u001b[0mself\u001b[0m\u001b[0;34m,\u001b[0m \u001b[0minput\u001b[0m\u001b[0;34m,\u001b[0m \u001b[0moutput\u001b[0m\u001b[0;34m,\u001b[0m \u001b[0mepsilon\u001b[0m\u001b[0;34m=\u001b[0m\u001b[0;36m1e-12\u001b[0m\u001b[0;34m)\u001b[0m\u001b[0;34m:\u001b[0m\u001b[0;34m\u001b[0m\u001b[0;34m\u001b[0m\u001b[0m\n",
      "\u001b[0;32m~/PycharmProjects/ae/my_net.py\u001b[0m in \u001b[0;36mpredict\u001b[0;34m(self, input_values)\u001b[0m\n\u001b[1;32m    275\u001b[0m         \u001b[0minput_values\u001b[0m \u001b[0;34m=\u001b[0m \u001b[0mnp\u001b[0m\u001b[0;34m.\u001b[0m\u001b[0masarray\u001b[0m\u001b[0;34m(\u001b[0m\u001b[0minput_values\u001b[0m\u001b[0;34m)\u001b[0m\u001b[0;34m\u001b[0m\u001b[0;34m\u001b[0m\u001b[0m\n\u001b[1;32m    276\u001b[0m         \u001b[0;32mfor\u001b[0m \u001b[0mlayer\u001b[0m \u001b[0;32min\u001b[0m \u001b[0mself\u001b[0m\u001b[0;34m.\u001b[0m\u001b[0mlayers\u001b[0m\u001b[0;34m:\u001b[0m\u001b[0;34m\u001b[0m\u001b[0;34m\u001b[0m\u001b[0m\n\u001b[0;32m--> 277\u001b[0;31m             \u001b[0minput_values\u001b[0m \u001b[0;34m=\u001b[0m \u001b[0mlayer\u001b[0m\u001b[0;34m.\u001b[0m\u001b[0mcalculate\u001b[0m\u001b[0;34m(\u001b[0m\u001b[0minput_values\u001b[0m\u001b[0;34m)\u001b[0m\u001b[0;34m\u001b[0m\u001b[0;34m\u001b[0m\u001b[0m\n\u001b[0m\u001b[1;32m    278\u001b[0m         \u001b[0;32mreturn\u001b[0m \u001b[0minput_values\u001b[0m\u001b[0;34m\u001b[0m\u001b[0;34m\u001b[0m\u001b[0m\n\u001b[1;32m    279\u001b[0m \u001b[0;34m\u001b[0m\u001b[0m\n",
      "\u001b[0;32m~/PycharmProjects/ae/my_net.py\u001b[0m in \u001b[0;36mcalculate\u001b[0;34m(self, input)\u001b[0m\n\u001b[1;32m    103\u001b[0m         \u001b[0;32mif\u001b[0m \u001b[0mnp\u001b[0m\u001b[0;34m.\u001b[0m\u001b[0mshape\u001b[0m\u001b[0;34m(\u001b[0m\u001b[0minput\u001b[0m\u001b[0;34m)\u001b[0m\u001b[0;34m[\u001b[0m\u001b[0;36m1\u001b[0m\u001b[0;34m]\u001b[0m \u001b[0;34m!=\u001b[0m \u001b[0mself\u001b[0m\u001b[0;34m.\u001b[0m\u001b[0mn_inputs\u001b[0m\u001b[0;34m(\u001b[0m\u001b[0;34m)\u001b[0m\u001b[0;34m:\u001b[0m\u001b[0;34m\u001b[0m\u001b[0;34m\u001b[0m\u001b[0m\n\u001b[1;32m    104\u001b[0m             \u001b[0;32mraise\u001b[0m \u001b[0mValueError\u001b[0m\u001b[0;34m(\u001b[0m\u001b[0;34m\"Input size does not match layer's expected input size.\"\u001b[0m\u001b[0;34m)\u001b[0m\u001b[0;34m\u001b[0m\u001b[0;34m\u001b[0m\u001b[0m\n\u001b[0;32m--> 105\u001b[0;31m         \u001b[0;32mreturn\u001b[0m \u001b[0mself\u001b[0m\u001b[0;34m.\u001b[0m\u001b[0mf\u001b[0m\u001b[0;34m(\u001b[0m\u001b[0minput\u001b[0m \u001b[0;34m@\u001b[0m \u001b[0mself\u001b[0m\u001b[0;34m.\u001b[0m\u001b[0mweights\u001b[0m \u001b[0;34m+\u001b[0m \u001b[0mself\u001b[0m\u001b[0;34m.\u001b[0m\u001b[0mbiases\u001b[0m\u001b[0;34m)\u001b[0m\u001b[0;34m\u001b[0m\u001b[0;34m\u001b[0m\u001b[0m\n\u001b[0m\u001b[1;32m    106\u001b[0m \u001b[0;34m\u001b[0m\u001b[0m\n\u001b[1;32m    107\u001b[0m     \u001b[0;32mdef\u001b[0m \u001b[0mpropagate_error\u001b[0m\u001b[0;34m(\u001b[0m\u001b[0mself\u001b[0m\u001b[0;34m,\u001b[0m \u001b[0mdifferences\u001b[0m\u001b[0;34m,\u001b[0m \u001b[0mcalculated_input\u001b[0m\u001b[0;34m)\u001b[0m\u001b[0;34m:\u001b[0m\u001b[0;34m\u001b[0m\u001b[0;34m\u001b[0m\u001b[0m\n",
      "\u001b[0;31mKeyboardInterrupt\u001b[0m: "
     ]
    },
    {
     "data": {
      "image/png": "[encoded data removed]",
      "text/plain": [
       "<Figure size 432x288 with 1 Axes>"
      ]
     },
     "metadata": {
      "needs_background": "light"
     },
     "output_type": "display_data"
    }
   ],
   "source": [
    "pop_size = 100\n",
    "p_mut = 0.4\n",
    "p_cross = 0.8\n",
    "elite_count = 10\n",
    "tournament_size = 4\n",
    "layers_sizes = [25, 25, 25, 5, 1]\n",
    "#sigma = 0.5\n",
    "layers_activations = [\"sigmoid\", \"sigmoid\", \"sigmoid\", \"sigmoid\", \"identity\"]\n",
    "p = Population(pop_size, np.shape(x)[1], layers_sizes, layers_activations, x, y)\n",
    "n_epochs = 10\n",
    "n_iters = 200\n",
    "loss_history_x = np.array([])\n",
    "loss_history_y = np.array([])\n",
    "for epoch in range(n_epochs):\n",
    "    for i in range(n_iters):\n",
    "        sigma = 10/np.log(epoch * n_iters + i + 2)\n",
    "        p.iteration(p_mut, sigma, p_cross, elite_count, tournament_size)\n",
    "        loss_history_x = np.concatenate((loss_history_x, np.repeat(epoch * n_iters + i, pop_size)))\n",
    "        loss_history_y = np.concatenate((loss_history_y, np.array(list(map(lambda x: x.eval(), p.individuals)))))\n",
    "    print(\"epoch \" + str(epoch) + \": \")\n",
    "    plt.scatter(loss_history_x, loss_history_y, alpha=0.3)\n",
    "    plt.scatter(loss_history_x[100:], loss_history_y[100:], alpha=0.3)\n",
    "    print(p.best().eval())"
   ]
  },
  {
   "cell_type": "code",
   "execution_count": 87,
   "metadata": {},
   "outputs": [
    {
     "name": "stdout",
     "output_type": "stream",
     "text": [
      "epoch 0: \n",
      "51.79868225715654\n",
      "epoch 1: \n",
      "51.79868225715654\n",
      "epoch 2: \n",
      "51.79868225715654\n",
      "epoch 3: \n",
      "47.06676417837282\n",
      "epoch 4: \n",
      "47.06676417837282\n",
      "epoch 5: \n",
      "47.06676417837282\n",
      "epoch 6: \n",
      "47.06676417837282\n",
      "epoch 7: \n",
      "22.506998661304593\n",
      "epoch 8: \n",
      "20.573466919971743\n",
      "epoch 9: \n",
      "20.405799082645782\n"
     ]
    },
    {
     "data": {
      "image/png": "[encoded data removed]",
      "text/plain": [
       "<Figure size 432x288 with 1 Axes>"
      ]
     },
     "metadata": {
      "needs_background": "light"
     },
     "output_type": "display_data"
    }
   ],
   "source": [
    "pop_size = 100\n",
    "p_mut = 0.4\n",
    "p_cross = 0.8\n",
    "elite_count = 10\n",
    "tournament_size = 4\n",
    "layers_sizes = [25, 25, 25, 5, 1]\n",
    "#sigma = 0.5\n",
    "layers_activations = [\"ReLU\", \"ReLU\", \"ReLU\", \"ReLU\", \"identity\"]\n",
    "p = Population(pop_size, np.shape(x)[1], layers_sizes, layers_activations, x, y)\n",
    "n_epochs = 10\n",
    "n_iters = 200\n",
    "loss_history_x = np.array([])\n",
    "loss_history_y = np.array([])\n",
    "for epoch in range(n_epochs):\n",
    "    for i in range(n_iters):\n",
    "        sigma = 10/np.log(epoch * n_iters + i + 2)\n",
    "        p.iteration(p_mut, sigma, p_cross, elite_count, tournament_size)\n",
    "        loss_history_x = np.concatenate((loss_history_x, np.repeat(epoch * n_iters + i, pop_size)))\n",
    "        loss_history_y = np.concatenate((loss_history_y, np.array(list(map(lambda x: x.eval(), p.individuals)))))\n",
    "    print(\"epoch \" + str(epoch) + \": \")\n",
    "    plt.scatter(loss_history_x, loss_history_y, alpha=0.3)\n",
    "    plt.scatter(loss_history_x[200:], loss_history_y[200:], alpha=0.3)\n",
    "    print(p.best().eval())"
   ]
  },
  {
   "cell_type": "code",
   "execution_count": 101,
   "metadata": {},
   "outputs": [
    {
     "data": {
      "text/plain": [
       "<matplotlib.collections.PathCollection at 0x7fd27cba2790>"
      ]
     },
     "execution_count": 101,
     "metadata": {},
     "output_type": "execute_result"
    },
    {
     "data": {
      "image/png": "[encoded data removed]",
      "text/plain": [
       "<Figure size 432x288 with 1 Axes>"
      ]
     },
     "metadata": {
      "needs_background": "light"
     },
     "output_type": "display_data"
    }
   ],
   "source": [
    "plt.scatter(loss_history_x[::100], loss_history_y[::100], alpha=0.3)"
   ]
  },
  {
   "cell_type": "code",
   "execution_count": 95,
   "metadata": {},
   "outputs": [
    {
     "data": {
      "text/plain": [
       "array([134.81230665, 165.92018029, 195.93900807, ...,  20.40761647,\n",
       "        20.40579908,  20.40761647])"
      ]
     },
     "execution_count": 95,
     "metadata": {},
     "output_type": "execute_result"
    }
   ],
   "source": [
    "loss_history_y"
   ]
  }
 ],
 "metadata": {
  "kernelspec": {
   "display_name": "Python 3",
   "language": "python",
   "name": "python3"
  },
  "language_info": {
   "codemirror_mode": {
    "name": "ipython",
    "version": 3
   },
   "file_extension": ".py",
   "mimetype": "text/x-python",
   "name": "python",
   "nbconvert_exporter": "python",
   "pygments_lexer": "ipython3",
   "version": "3.8.10"
  }
 },
 "nbformat": 4,
 "nbformat_minor": 4
}
